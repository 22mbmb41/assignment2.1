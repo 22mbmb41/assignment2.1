{
 "cells": [
  {
   "cell_type": "markdown",
   "id": "c4c52f99-3001-4425-ba81-51ff1d24b605",
   "metadata": {},
   "source": [
    "Q1. Explain with an example each when to use a for loop and a while loop."
   ]
  },
  {
   "cell_type": "code",
   "execution_count": 1,
   "id": "f167a943-3c71-4c38-9448-89890614a0c2",
   "metadata": {},
   "outputs": [
    {
     "name": "stdout",
     "output_type": "stream",
     "text": [
      "2 <class 'int'>\n",
      "4 <class 'int'>\n",
      "6 <class 'int'>\n",
      "7 <class 'int'>\n",
      "8 <class 'int'>\n",
      "sudhir <class 'str'>\n"
     ]
    }
   ],
   "source": [
    "l=[2,4,6,7,8,'sudhir']\n",
    "for j in l:\n",
    "    print(j, type(j))"
   ]
  },
  {
   "cell_type": "code",
   "execution_count": 2,
   "id": "5c3be3d3-4c36-4373-8436-f282a31a0f34",
   "metadata": {},
   "outputs": [
    {
     "name": "stdout",
     "output_type": "stream",
     "text": [
      "1\n",
      "2\n",
      "3\n",
      "4\n"
     ]
    }
   ],
   "source": [
    "o = 5 \n",
    "i = 1\n",
    "while i < o :\n",
    "    print(i)\n",
    "    i = i+ 1"
   ]
  },
  {
   "cell_type": "markdown",
   "id": "709772a2-2ec9-487a-88b3-63299cc2d2e1",
   "metadata": {},
   "source": [
    "Q2. Write a python program to print the sum and product of the first 10 natural numbers using for\n",
    "and while loop."
   ]
  },
  {
   "cell_type": "code",
   "execution_count": 3,
   "id": "203ccd89-f98d-408a-93b2-a7be8cfbc6bd",
   "metadata": {},
   "outputs": [
    {
     "data": {
      "text/plain": [
       "3628800"
      ]
     },
     "execution_count": 3,
     "metadata": {},
     "output_type": "execute_result"
    }
   ],
   "source": [
    "start_product=1\n",
    "gape=1\n",
    "while gape in range(1,11):\n",
    "    start_product=start_product*gape\n",
    "    gape=gape+1\n",
    "start_product"
   ]
  },
  {
   "cell_type": "code",
   "execution_count": 4,
   "id": "22d4151d-ede4-4ccf-90d2-ad3196ed53fb",
   "metadata": {},
   "outputs": [
    {
     "data": {
      "text/plain": [
       "55"
      ]
     },
     "execution_count": 4,
     "metadata": {},
     "output_type": "execute_result"
    }
   ],
   "source": [
    "start_sum1=0\n",
    "gape1=1\n",
    "for gape1 in range(1,11) :\n",
    "    start_sum1=start_sum1+gape1\n",
    "    gape1=gape+1\n",
    "start_sum1"
   ]
  },
  {
   "cell_type": "code",
   "execution_count": 5,
   "id": "15228b53-8e38-442f-8f62-e50818db0e88",
   "metadata": {},
   "outputs": [
    {
     "name": "stdin",
     "output_type": "stream",
     "text": [
      "natural number 10\n"
     ]
    },
    {
     "data": {
      "text/plain": [
       "55"
      ]
     },
     "execution_count": 5,
     "metadata": {},
     "output_type": "execute_result"
    }
   ],
   "source": [
    "k=int(input('natural number'))\n",
    "starting_sum=0\n",
    "gap=1\n",
    "while gap<=k :\n",
    "    starting_sum=starting_sum+gap\n",
    "    gap=gap+1\n",
    "starting_sum"
   ]
  },
  {
   "cell_type": "code",
   "execution_count": 6,
   "id": "2de2dc97-8f8b-45fa-8218-24bbb5d5fc3f",
   "metadata": {},
   "outputs": [
    {
     "data": {
      "text/plain": [
       "3628800"
      ]
     },
     "execution_count": 6,
     "metadata": {},
     "output_type": "execute_result"
    }
   ],
   "source": [
    "start_sum1=1\n",
    "gape1=1\n",
    "for gape1 in range(1,11) :\n",
    "    start_sum1=start_sum1*gape1\n",
    "    gape1=gape1+1\n",
    "start_sum1"
   ]
  },
  {
   "cell_type": "markdown",
   "id": "4a6bc849-f4e0-4b43-92f3-9018eb05ad38",
   "metadata": {},
   "source": [
    "Q3. Create a python program to compute the electricity bill for a household.\n",
    "The per-unit charges in rupees are as follows: For the first 100 units, the user will be charged Rs. 4.5 per\n",
    "unit, for the next 100 units, the user will be charged Rs. 6 per unit, and for the next 100 units, the user will\n",
    "be charged Rs. 10 per unit, After 300 units and above the user will be charged Rs. 20 per unit.\n",
    "You are required to take the units of electricity consumed in a month from the user as input.\n",
    "Your program must pass this test case: when the unit of electricity consumed by the user in a month is\n",
    "310, the total electricity bill should be 2250."
   ]
  },
  {
   "cell_type": "code",
   "execution_count": 7,
   "id": "18ca8753-73a8-4edf-94ad-0dae65ceacbb",
   "metadata": {},
   "outputs": [
    {
     "name": "stdin",
     "output_type": "stream",
     "text": [
      "enter your electricity bill 310\n"
     ]
    },
    {
     "name": "stdout",
     "output_type": "stream",
     "text": [
      "price 2250.0\n"
     ]
    }
   ],
   "source": [
    "bill=int(input('enter your electricity bill'))\n",
    "if bill<=100 :\n",
    "     print('price' , bill*4.5)\n",
    "elif 100<bill<=200:\n",
    "     print('price',(100*4.5)+(bill-100)*6)\n",
    "elif 200<bill<=300:\n",
    "     print('price',(100*4.5+100*6)+(bill-200)*10)\n",
    "else :\n",
    "     print('price',(100*4.5+100*6+100*10)+(bill-300)*20) "
   ]
  },
  {
   "cell_type": "markdown",
   "id": "8552e2b2-7921-47c6-8043-fd4cd017eb02",
   "metadata": {},
   "source": [
    "Q4. Create a list of numbers from 1 to 100. Use for loop and while loop to calculate the cube of each\n",
    "number and if the cube of that number is divisible by 4 or 5 then append that number in a list and print\n",
    "that list."
   ]
  },
  {
   "cell_type": "code",
   "execution_count": 8,
   "id": "4fa2055c-9af0-462b-9d38-07ecb6274a1f",
   "metadata": {},
   "outputs": [
    {
     "name": "stdin",
     "output_type": "stream",
     "text": [
      "enter your number 100\n"
     ]
    },
    {
     "name": "stdout",
     "output_type": "stream",
     "text": [
      "1 1\n",
      "2 8\n",
      "3 27\n",
      "4 64\n",
      "5 125\n",
      "6 216\n",
      "7 343\n",
      "8 512\n",
      "9 729\n",
      "10 1000\n",
      "11 1331\n",
      "12 1728\n",
      "13 2197\n",
      "14 2744\n",
      "15 3375\n",
      "16 4096\n",
      "17 4913\n",
      "18 5832\n",
      "19 6859\n",
      "20 8000\n",
      "21 9261\n",
      "22 10648\n",
      "23 12167\n",
      "24 13824\n",
      "25 15625\n",
      "26 17576\n",
      "27 19683\n",
      "28 21952\n",
      "29 24389\n",
      "30 27000\n",
      "31 29791\n",
      "32 32768\n",
      "33 35937\n",
      "34 39304\n",
      "35 42875\n",
      "36 46656\n",
      "37 50653\n",
      "38 54872\n",
      "39 59319\n",
      "40 64000\n",
      "41 68921\n",
      "42 74088\n",
      "43 79507\n",
      "44 85184\n",
      "45 91125\n",
      "46 97336\n",
      "47 103823\n",
      "48 110592\n",
      "49 117649\n",
      "50 125000\n",
      "51 132651\n",
      "52 140608\n",
      "53 148877\n",
      "54 157464\n",
      "55 166375\n",
      "56 175616\n",
      "57 185193\n",
      "58 195112\n",
      "59 205379\n",
      "60 216000\n",
      "61 226981\n",
      "62 238328\n",
      "63 250047\n",
      "64 262144\n",
      "65 274625\n",
      "66 287496\n",
      "67 300763\n",
      "68 314432\n",
      "69 328509\n",
      "70 343000\n",
      "71 357911\n",
      "72 373248\n",
      "73 389017\n",
      "74 405224\n",
      "75 421875\n",
      "76 438976\n",
      "77 456533\n",
      "78 474552\n",
      "79 493039\n",
      "80 512000\n",
      "81 531441\n",
      "82 551368\n",
      "83 571787\n",
      "84 592704\n",
      "85 614125\n",
      "86 636056\n",
      "87 658503\n",
      "88 681472\n",
      "89 704969\n",
      "90 729000\n",
      "91 753571\n",
      "92 778688\n",
      "93 804357\n",
      "94 830584\n",
      "95 857375\n",
      "96 884736\n",
      "97 912673\n",
      "98 941192\n",
      "99 970299\n",
      "100 1000000\n"
     ]
    },
    {
     "data": {
      "text/plain": [
       "[2,\n",
       " 4,\n",
       " 5,\n",
       " 6,\n",
       " 8,\n",
       " 10,\n",
       " 12,\n",
       " 14,\n",
       " 15,\n",
       " 16,\n",
       " 18,\n",
       " 20,\n",
       " 22,\n",
       " 24,\n",
       " 25,\n",
       " 26,\n",
       " 28,\n",
       " 30,\n",
       " 32,\n",
       " 34,\n",
       " 35,\n",
       " 36,\n",
       " 38,\n",
       " 40,\n",
       " 42,\n",
       " 44,\n",
       " 45,\n",
       " 46,\n",
       " 48,\n",
       " 50,\n",
       " 52,\n",
       " 54,\n",
       " 55,\n",
       " 56,\n",
       " 58,\n",
       " 60,\n",
       " 62,\n",
       " 64,\n",
       " 65,\n",
       " 66,\n",
       " 68,\n",
       " 70,\n",
       " 72,\n",
       " 74,\n",
       " 75,\n",
       " 76,\n",
       " 78,\n",
       " 80,\n",
       " 82,\n",
       " 84,\n",
       " 85,\n",
       " 86,\n",
       " 88,\n",
       " 90,\n",
       " 92,\n",
       " 94,\n",
       " 95,\n",
       " 96,\n",
       " 98,\n",
       " 100]"
      ]
     },
     "execution_count": 8,
     "metadata": {},
     "output_type": "execute_result"
    }
   ],
   "source": [
    "n = int(input(\"enter your number\"))\n",
    "i = 1 \n",
    "l3=[]\n",
    "\n",
    "while i <= n  :\n",
    "    result = i *i*i\n",
    "    print(i ,result)\n",
    "    i= i+1\n",
    "    if (i*i*i)%4 == 0 or (i*i*i)%5==0 :\n",
    "                l3.append(i)\n",
    "l3"
   ]
  },
  {
   "cell_type": "code",
   "execution_count": 9,
   "id": "3531fbae-e5f0-4033-8785-3e21ae195b2b",
   "metadata": {},
   "outputs": [
    {
     "name": "stdout",
     "output_type": "stream",
     "text": [
      "cube 1\n",
      "cube 8\n",
      "cube 27\n",
      "cube 64\n",
      "cube 125\n",
      "cube 216\n",
      "cube 343\n",
      "cube 512\n",
      "cube 729\n",
      "cube 1000\n",
      "cube 1331\n",
      "cube 1728\n",
      "cube 2197\n",
      "cube 2744\n",
      "cube 3375\n",
      "cube 4096\n",
      "cube 4913\n",
      "cube 5832\n",
      "cube 6859\n",
      "cube 8000\n",
      "cube 9261\n",
      "cube 10648\n",
      "cube 12167\n",
      "cube 13824\n",
      "cube 15625\n",
      "cube 17576\n",
      "cube 19683\n",
      "cube 21952\n",
      "cube 24389\n",
      "cube 27000\n",
      "cube 29791\n",
      "cube 32768\n",
      "cube 35937\n",
      "cube 39304\n",
      "cube 42875\n",
      "cube 46656\n",
      "cube 50653\n",
      "cube 54872\n",
      "cube 59319\n",
      "cube 64000\n",
      "cube 68921\n",
      "cube 74088\n",
      "cube 79507\n",
      "cube 85184\n",
      "cube 91125\n",
      "cube 97336\n",
      "cube 103823\n",
      "cube 110592\n",
      "cube 117649\n",
      "cube 125000\n",
      "cube 132651\n",
      "cube 140608\n",
      "cube 148877\n",
      "cube 157464\n",
      "cube 166375\n",
      "cube 175616\n",
      "cube 185193\n",
      "cube 195112\n",
      "cube 205379\n",
      "cube 216000\n",
      "cube 226981\n",
      "cube 238328\n",
      "cube 250047\n",
      "cube 262144\n",
      "cube 274625\n",
      "cube 287496\n",
      "cube 300763\n",
      "cube 314432\n",
      "cube 328509\n",
      "cube 343000\n",
      "cube 357911\n",
      "cube 373248\n",
      "cube 389017\n",
      "cube 405224\n",
      "cube 421875\n",
      "cube 438976\n",
      "cube 456533\n",
      "cube 474552\n",
      "cube 493039\n",
      "cube 512000\n",
      "cube 531441\n",
      "cube 551368\n",
      "cube 571787\n",
      "cube 592704\n",
      "cube 614125\n",
      "cube 636056\n",
      "cube 658503\n",
      "cube 681472\n",
      "cube 704969\n",
      "cube 729000\n",
      "cube 753571\n",
      "cube 778688\n",
      "cube 804357\n",
      "cube 830584\n",
      "cube 857375\n",
      "cube 884736\n",
      "cube 912673\n",
      "cube 941192\n",
      "cube 970299\n",
      "cube 1000000\n"
     ]
    },
    {
     "data": {
      "text/plain": [
       "[2,\n",
       " 4,\n",
       " 5,\n",
       " 6,\n",
       " 8,\n",
       " 10,\n",
       " 12,\n",
       " 14,\n",
       " 15,\n",
       " 16,\n",
       " 18,\n",
       " 20,\n",
       " 22,\n",
       " 24,\n",
       " 25,\n",
       " 26,\n",
       " 28,\n",
       " 30,\n",
       " 32,\n",
       " 34,\n",
       " 35,\n",
       " 36,\n",
       " 38,\n",
       " 40,\n",
       " 42,\n",
       " 44,\n",
       " 45,\n",
       " 46,\n",
       " 48,\n",
       " 50,\n",
       " 52,\n",
       " 54,\n",
       " 55,\n",
       " 56,\n",
       " 58,\n",
       " 60,\n",
       " 62,\n",
       " 64,\n",
       " 65,\n",
       " 66,\n",
       " 68,\n",
       " 70,\n",
       " 72,\n",
       " 74,\n",
       " 75,\n",
       " 76,\n",
       " 78,\n",
       " 80,\n",
       " 82,\n",
       " 84,\n",
       " 85,\n",
       " 86,\n",
       " 88,\n",
       " 90,\n",
       " 92,\n",
       " 94,\n",
       " 95,\n",
       " 96,\n",
       " 98,\n",
       " 100]"
      ]
     },
     "execution_count": 9,
     "metadata": {},
     "output_type": "execute_result"
    }
   ],
   "source": [
    "l1=[]\n",
    "for i in list(range(1,101)):\n",
    "    print('cube',i*i*i)\n",
    "    if (i*i*i)%4 == 0 or (i*i*i)%5==0 :\n",
    "            l1.append(i)\n",
    "l1"
   ]
  },
  {
   "cell_type": "markdown",
   "id": "e2d2e36d-1682-4567-8954-d8d3b2a6a545",
   "metadata": {},
   "source": [
    "Q5. Write a program to filter count vowels in the below-given string.\n",
    "string = \"I want to become a data scientist\""
   ]
  },
  {
   "cell_type": "code",
   "execution_count": 11,
   "id": "3668ccc6-6a10-4648-800e-9bc9a0bdc934",
   "metadata": {},
   "outputs": [],
   "source": [
    "string = \"I want to become a data scientist\""
   ]
  },
  {
   "cell_type": "code",
   "execution_count": 12,
   "id": "f0205e94-7fd8-4b59-9c7b-26700f9d48c9",
   "metadata": {},
   "outputs": [
    {
     "data": {
      "text/plain": [
       "4"
      ]
     },
     "execution_count": 12,
     "metadata": {},
     "output_type": "execute_result"
    }
   ],
   "source": [
    "string.count('a')"
   ]
  },
  {
   "cell_type": "code",
   "execution_count": 13,
   "id": "64163274-4cf4-4aa3-bc5e-2d463c632e29",
   "metadata": {},
   "outputs": [
    {
     "data": {
      "text/plain": [
       "3"
      ]
     },
     "execution_count": 13,
     "metadata": {},
     "output_type": "execute_result"
    }
   ],
   "source": [
    "string.count('e')"
   ]
  },
  {
   "cell_type": "code",
   "execution_count": 14,
   "id": "0b33ce84-bc5a-4cc9-9108-e70fdf995682",
   "metadata": {},
   "outputs": [
    {
     "data": {
      "text/plain": [
       "2"
      ]
     },
     "execution_count": 14,
     "metadata": {},
     "output_type": "execute_result"
    }
   ],
   "source": [
    "string.count('i')"
   ]
  },
  {
   "cell_type": "code",
   "execution_count": 15,
   "id": "cdda0d00-d85d-447c-bf2a-e7303bf9a5c6",
   "metadata": {},
   "outputs": [
    {
     "data": {
      "text/plain": [
       "0"
      ]
     },
     "execution_count": 15,
     "metadata": {},
     "output_type": "execute_result"
    }
   ],
   "source": [
    "string.count('u')"
   ]
  }
 ],
 "metadata": {
  "kernelspec": {
   "display_name": "Python 3 (ipykernel)",
   "language": "python",
   "name": "python3"
  },
  "language_info": {
   "codemirror_mode": {
    "name": "ipython",
    "version": 3
   },
   "file_extension": ".py",
   "mimetype": "text/x-python",
   "name": "python",
   "nbconvert_exporter": "python",
   "pygments_lexer": "ipython3",
   "version": "3.10.8"
  }
 },
 "nbformat": 4,
 "nbformat_minor": 5
}
